{
 "cells": [
  {
   "cell_type": "code",
   "execution_count": 1,
   "id": "d0862801",
   "metadata": {},
   "outputs": [],
   "source": [
    "import warnings\n",
    "warnings.filterwarnings('ignore')\n",
    "import numpy as np\n",
    "import pandas as pd\n",
    "# import my implementation of the toolkit\n",
    "import toolkit as tk\n",
    "# import my implementation of the decision tree\n",
    "from decisionTree import DecisionTreeClassifier, DecisionTreeRegressor\n",
    "import decisionTree"
   ]
  },
  {
   "cell_type": "code",
   "execution_count": 2,
   "id": "d16e24f8",
   "metadata": {},
   "outputs": [],
   "source": [
    "# Abalone\n",
    "abalone_names = [\"sex\", \"length\", \"diameter\", \"height\", \"whole weight\", \"shucked weight\", \"viscera weight\", \"shell weight\", \"rings\"]\n",
    "abalone = tk.load_data(\"../classification_datasets/abalone.data\", names=abalone_names)\n",
    "\n",
    "# Breast cancer wisconsin\n",
    "breast_cancer_names = ['sample_code', 'clump_thickness', 'uniformity_of_cell_size', 'uniformity_of_cell_shape', 'marginal_adhesion', 'single_epithelial_cell_size', 'bare_nuclei', 'bland_chromatin', 'normal_nucleoli', 'motoses', 'class']\n",
    "breast_cancer = tk.load_data(\"../classification_datasets/breast-cancer-wisconsin.data\", names=breast_cancer_names, index_col=0)\n",
    "\n",
    "# breast cancer: missing value denoted by ?\n",
    "tk.handle_missing_values(breast_cancer)\n",
    "\n",
    "# Car\n",
    "# arribute \"class\" is added for data loading purposes\n",
    "car_names = ['buying', 'maint', 'doors', 'persons', 'lug_boot', 'safety', 'class'] \n",
    "car = tk.load_data(\"../classification_datasets/car.data\", names=car_names)\n",
    "\n",
    "# Forest Fires\n",
    "# forestfires has header\n",
    "forestfires = tk.load_data(\"../classification_datasets/forestfires.data\", header=0)\n",
    "\n",
    "# house votes\n",
    "house__votes_names = ['class', 'handicapped', 'water_project_cost_sharing', 'adoption_of_the_budget_resolution', 'physician_fee_freeze', 'el_salvador_aid', 'religious_groups_in_schools', 'anti_satellite_test_ban', 'aid_to_nicaraguan_contras', 'mx_missile', 'immigration', 'synfuels_corporation_cutback', 'education_spending', 'superfund_right_to_sue', 'crime', 'duty_free_exports', 'export_administration_act_south_africa'] \n",
    "house_votes = tk.load_data(\"../classification_datasets/house-votes-84.data\", names=house__votes_names)\n",
    "\n",
    "# Machine\n",
    "machine_names = ['vendor', 'model', 'MYCT', 'MMIN', 'MMAX', 'CACH', 'CHMIN', 'CHMAX', 'PRP', 'ERP'] \n",
    "machine = tk.load_data(\"../classification_datasets/machine.data\", names=machine_names)"
   ]
  },
  {
   "cell_type": "code",
   "execution_count": 56,
   "id": "cc377c87",
   "metadata": {},
   "outputs": [
    {
     "data": {
      "image/png": "[encoded data removed]",
      "text/plain": [
       "<Figure size 800x600 with 1 Axes>"
      ]
     },
     "metadata": {},
     "output_type": "display_data"
    }
   ],
   "source": [
    "import matplotlib.pyplot as plt\n",
    "\n",
    "plt.figure(figsize=(8, 6))\n",
    "plt.hist(forestfires['area'], bins=20, color='skyblue', edgecolor='black')\n",
    "plt.title(\"Distribution of Forest Fire Area\")\n",
    "plt.xlabel(\"Area\")\n",
    "plt.ylabel(\"Frequency\")\n",
    "plt.show()"
   ]
  },
  {
   "cell_type": "markdown",
   "id": "d82af65a",
   "metadata": {},
   "source": [
    "# PA 3 Demo"
   ]
  },
  {
   "cell_type": "code",
   "execution_count": 3,
   "id": "ee7408e1",
   "metadata": {},
   "outputs": [],
   "source": [
    "# function for printing the classification tree\n",
    "def print_tree_classification(tree, depth=0):\n",
    "    # Recursively traverse and print the tree structure\n",
    "    if isinstance(tree, dict):\n",
    "        for feature, subtree in tree['children'].items():\n",
    "            print('  ' * depth + f'Feature {tree[\"feature_index\"]} = {feature}')\n",
    "            print_tree_classification(subtree, depth + 1)\n",
    "    else:\n",
    "        print('  ' * depth + str(tree))"
   ]
  },
  {
   "cell_type": "code",
   "execution_count": 4,
   "id": "7176cb90",
   "metadata": {},
   "outputs": [],
   "source": [
    "def print_tree_regression(tree, indent=\" \"):        \n",
    "    if isinstance(tree, dict):\n",
    "        print(\"X_\"+str(tree[\"feature_index\"]), \"<=\", tree[\"threshold\"], \"?\", tree[\"mse\"])\n",
    "        print(\"%sleft:\" % (indent), end=\"\")\n",
    "        print_tree_regression(tree[\"left\"], indent + indent)\n",
    "        print(\"%sright:\" % (indent), end=\"\")\n",
    "        print_tree_regression(tree[\"right\"], indent + indent)\n",
    "    else:\n",
    "        print(tree)"
   ]
  },
  {
   "cell_type": "code",
   "execution_count": 5,
   "id": "b59b510b",
   "metadata": {},
   "outputs": [],
   "source": [
    "# classification data\n",
    "house_votes_target = house_votes['class'].to_numpy()\n",
    "house_votes_data = house_votes.drop(columns=['class']).to_numpy()\n",
    "\n",
    "# regression data\n",
    "forestfires_target = forestfires['area'].to_numpy()\n",
    "forestfires_data = forestfires.drop(columns=['area']).to_numpy()"
   ]
  },
  {
   "cell_type": "markdown",
   "id": "852454b4",
   "metadata": {},
   "source": [
    "## Provide sample outputs from one test set on one fold for a classification tree and a regression tree."
   ]
  },
  {
   "cell_type": "code",
   "execution_count": 6,
   "id": "bd698394",
   "metadata": {},
   "outputs": [
    {
     "name": "stdout",
     "output_type": "stream",
     "text": [
      "X_train size:  347\n",
      "X_valid size:  88\n",
      "y_train size:  347\n",
      "y_valid size:  88\n",
      "Round 0.1 of hyperparameter choosing.\n",
      "train size: 137. test size: 88\n",
      "Performance of corresponding hyperparams: [0.9545454545454546, 0.9431818181818182]\n",
      "Round 0.2 of hyperparameter choosing.\n",
      "train size: 138. test size: 88\n",
      "Performance of corresponding hyperparams: [0.9204545454545454, 0.8977272727272727]\n",
      "The average performance is: [0.9375     0.92045455]\n",
      "The best hyperparams setting is: [True]\n",
      "Round 0.1 performance testing of best hyperparameter setting.\n",
      "train size: 173. test size: 174\n",
      "Performance: 0.9597701149425287\n",
      "Round 0.2 performance testing of best hyperparameter setting.\n",
      "train size: 174. test size: 173\n",
      "Performance: 0.953757225433526\n",
      "The average performance is: 0.9567636701880273\n"
     ]
    },
    {
     "data": {
      "text/plain": [
       "(True, 0.9567636701880273)"
      ]
     },
     "execution_count": 6,
     "metadata": {},
     "output_type": "execute_result"
    }
   ],
   "source": [
    "K=1\n",
    "# classification - house votes\n",
    "prune = [True, False]\n",
    "model = decisionTree.DecisionTreeClassifier()\n",
    "tk.k_2_cv(house_votes_data, house_votes_target, K, prune, model, classification=True)"
   ]
  },
  {
   "cell_type": "code",
   "execution_count": 7,
   "id": "ea863be5",
   "metadata": {},
   "outputs": [
    {
     "name": "stdout",
     "output_type": "stream",
     "text": [
      "X_train size:  413\n",
      "X_valid size:  104\n",
      "y_train size:  413\n",
      "y_valid size:  104\n",
      "Round 0.1 of hyperparameter choosing.\n",
      "train size: 164. test size: 104\n",
      "Performance of corresponding hyperparams: [22.12322344322344, 26.790042067307695]\n",
      "Round 0.2 of hyperparameter choosing.\n",
      "train size: 165. test size: 104\n",
      "Performance of corresponding hyperparams: [25.80591463414634, 26.679835260892954]\n",
      "The average performance is: [23.96456904 26.73493866]\n",
      "The best hyperparams setting is: [True]\n",
      "Round 0.1 performance testing of best hyperparameter setting.\n",
      "train size: 206. test size: 207\n",
      "Performance: 10.120245767084095\n",
      "Round 0.2 performance testing of best hyperparameter setting.\n",
      "train size: 207. test size: 206\n",
      "Performance: 14.62811799850635\n",
      "The average performance is: 12.374181882795222\n"
     ]
    },
    {
     "data": {
      "text/plain": [
       "(True, 12.374181882795222)"
      ]
     },
     "execution_count": 7,
     "metadata": {},
     "output_type": "execute_result"
    }
   ],
   "source": [
    "# regression - forestfires\n",
    "prune = [True, False]\n",
    "model = decisionTree.DecisionTreeRegressor(max_depth=10)\n",
    "tk.k_2_cv(forestfires_data, forestfires_target, K, prune, model, classification=False)"
   ]
  },
  {
   "cell_type": "markdown",
   "id": "81ced632",
   "metadata": {},
   "source": [
    "## Show a sample classification tree without pruning and with pruning."
   ]
  },
  {
   "cell_type": "code",
   "execution_count": 8,
   "id": "8706c2c3",
   "metadata": {},
   "outputs": [],
   "source": [
    "# split for pruning\n",
    "X_1, X_2, y_1, y_2 = tk.train_test_split(house_votes_data, house_votes_target, split_percentage=0.8, classification=True)\n",
    "\n",
    "house_votes_tree = DecisionTreeClassifier()\n",
    "house_votes_tree.fit(X_1, y_1)"
   ]
  },
  {
   "cell_type": "code",
   "execution_count": 9,
   "id": "2818cf62",
   "metadata": {
    "scrolled": true
   },
   "outputs": [
    {
     "name": "stdout",
     "output_type": "stream",
     "text": [
      "Feature 3 = ?\n",
      "  Feature 11 = ?\n",
      "    democrat\n",
      "  Feature 11 = n\n",
      "    democrat\n",
      "  Feature 11 = y\n",
      "    republican\n",
      "Feature 3 = n\n",
      "  Feature 2 = ?\n",
      "    democrat\n",
      "  Feature 2 = n\n",
      "    Feature 5 = ?\n",
      "      democrat\n",
      "    Feature 5 = n\n",
      "      Feature 14 = n\n",
      "        republican\n",
      "      Feature 14 = y\n",
      "        democrat\n",
      "    Feature 5 = y\n",
      "      democrat\n",
      "  Feature 2 = y\n",
      "    democrat\n",
      "Feature 3 = y\n",
      "  Feature 10 = ?\n",
      "    republican\n",
      "  Feature 10 = n\n",
      "    Feature 14 = ?\n",
      "      republican\n",
      "    Feature 14 = n\n",
      "      Feature 2 = n\n",
      "        republican\n",
      "      Feature 2 = y\n",
      "        Feature 15 = ?\n",
      "          Feature 0 = n\n",
      "            democrat\n",
      "          Feature 0 = y\n",
      "            republican\n",
      "        Feature 15 = y\n",
      "          republican\n",
      "    Feature 14 = y\n",
      "      Feature 9 = n\n",
      "        Feature 6 = n\n",
      "          Feature 11 = n\n",
      "            democrat\n",
      "          Feature 11 = y\n",
      "            republican\n",
      "        Feature 6 = y\n",
      "          republican\n",
      "      Feature 9 = y\n",
      "        republican\n",
      "  Feature 10 = y\n",
      "    Feature 8 = n\n",
      "      Feature 2 = n\n",
      "        Feature 9 = n\n",
      "          Feature 12 = n\n",
      "            democrat\n",
      "          Feature 12 = y\n",
      "            Feature 11 = ?\n",
      "              republican\n",
      "            Feature 11 = n\n",
      "              democrat\n",
      "            Feature 11 = y\n",
      "              Feature 1 = ?\n",
      "                republican\n",
      "              Feature 1 = n\n",
      "                Feature 0 = n\n",
      "                  Feature 15 = n\n",
      "                    democrat\n",
      "                  Feature 15 = y\n",
      "                    republican\n",
      "                Feature 0 = y\n",
      "                  republican\n",
      "              Feature 1 = y\n",
      "                republican\n",
      "        Feature 9 = y\n",
      "          republican\n",
      "      Feature 2 = y\n",
      "        Feature 1 = n\n",
      "          republican\n",
      "        Feature 1 = y\n",
      "          democrat\n",
      "    Feature 8 = y\n",
      "      Feature 5 = n\n",
      "        Feature 2 = n\n",
      "          democrat\n",
      "        Feature 2 = y\n",
      "          republican\n",
      "      Feature 5 = y\n",
      "        democrat\n"
     ]
    }
   ],
   "source": [
    "# tree without pruning\n",
    "print_tree_classification(house_votes_tree.tree)"
   ]
  },
  {
   "cell_type": "code",
   "execution_count": 10,
   "id": "ce0d6ef9",
   "metadata": {
    "scrolled": true
   },
   "outputs": [],
   "source": [
    "house_votes_tree.reduced_error_prune_tree(X_2, y_2)"
   ]
  },
  {
   "cell_type": "code",
   "execution_count": 11,
   "id": "08152836",
   "metadata": {
    "scrolled": true
   },
   "outputs": [
    {
     "name": "stdout",
     "output_type": "stream",
     "text": [
      "Feature 3 = ?\n",
      "  republican\n",
      "Feature 3 = n\n",
      "  democrat\n",
      "Feature 3 = y\n",
      "  republican\n"
     ]
    }
   ],
   "source": [
    "print_tree_classification(house_votes_tree.tree)\n"
   ]
  },
  {
   "cell_type": "markdown",
   "id": "0062d4e8",
   "metadata": {},
   "source": [
    "## Show a sample regression tree without pruning and with pruning."
   ]
  },
  {
   "cell_type": "code",
   "execution_count": 12,
   "id": "a882cd49",
   "metadata": {
    "scrolled": false
   },
   "outputs": [
    {
     "name": "stdout",
     "output_type": "stream",
     "text": [
      "X_4 <= 50.4 ? 2193.150587576441\n",
      " left:0.0\n",
      " right:X_4 <= 63.5 ? 2203.2338009983196\n",
      "  left:0.0\n",
      "  right:X_4 <= 69.0 ? 2213.4097792657963\n",
      "    left:0.0\n",
      "    right:X_5 <= 3.0 ? 2223.679802386221\n",
      "        left:0.0\n",
      "        right:X_9 <= 90 ? 2234.0451738955353\n",
      "                left:X_10 <= 8.9 ? 2244.908601930959\n",
      "                                left:X_4 <= 96.1 ? 2257.4250544658953\n",
      "                                                                left:X_4 <= 75.1 ? 2269.1744224075087\n",
      "                                                                                                                                left:3.7649999999999997\n",
      "                                                                                                                                right:X_7 <= 20.0 ? 2282.7425334522204\n",
      "                                                                                                                                                                                                                                                                left:X_4 <= 79.5 ? 2305.6528359374997\n",
      "                                                                                                                                                                                                                                                                                                                                                                                                                                                                                                                                left:3.42\n",
      "                                                                                                                                                                                                                                                                                                                                                                                                                                                                                                                                right:11.918392857142855\n",
      "                                                                                                                                                                                                                                                                right:0.05666666666666667\n",
      "                                                                right:1.385\n",
      "                                right:2.86\n",
      "                right:0.0\n"
     ]
    }
   ],
   "source": [
    "#Initialize and fit the decision tree regressor\n",
    "X_1, X_2, y_1, y_2 = tk.train_test_split(forestfires_data, forestfires_target, split_percentage=0.8, classification=False)\n",
    "\n",
    "forests_tree = DecisionTreeRegressor(max_depth=10)\n",
    "forests_tree.fit(X_1, y_1)\n",
    "print_tree_regression(forests_tree.tree)"
   ]
  },
  {
   "cell_type": "code",
   "execution_count": 13,
   "id": "9531fc95",
   "metadata": {},
   "outputs": [
    {
     "name": "stdout",
     "output_type": "stream",
     "text": [
      "18.72125\n"
     ]
    }
   ],
   "source": [
    "forests_tree.reduced_error_prune_tree(X_2, y_2)\n",
    "print_tree_regression(forests_tree.tree)"
   ]
  },
  {
   "cell_type": "markdown",
   "id": "78feac91",
   "metadata": {},
   "source": [
    "## Demonstrate the calculation of information gain, gain ratio, and mean squared error."
   ]
  },
  {
   "cell_type": "code",
   "execution_count": 14,
   "id": "7614ef46",
   "metadata": {},
   "outputs": [
    {
     "data": {
      "text/plain": [
       "0.12607312231686563"
      ]
     },
     "execution_count": 14,
     "metadata": {},
     "output_type": "execute_result"
    }
   ],
   "source": [
    "# information gain\n",
    "decisionTree.calculate_information_gain(house_votes_data, house_votes_target, 0)"
   ]
  },
  {
   "cell_type": "code",
   "execution_count": 15,
   "id": "3bd1ae08",
   "metadata": {},
   "outputs": [
    {
     "data": {
      "text/plain": [
       "0.11009613157866842"
      ]
     },
     "execution_count": 15,
     "metadata": {},
     "output_type": "execute_result"
    }
   ],
   "source": [
    "# gain ratio\n",
    "decisionTree.calculate_gain_ratio(house_votes_data, house_votes_target, 0)"
   ]
  },
  {
   "cell_type": "code",
   "execution_count": 16,
   "id": "c02cdbc8",
   "metadata": {},
   "outputs": [
    {
     "data": {
      "text/plain": [
       "13574.774744856715"
      ]
     },
     "execution_count": 16,
     "metadata": {},
     "output_type": "execute_result"
    }
   ],
   "source": [
    "left_y = y_1\n",
    "right_y = y_2\n",
    "# mean squared error\n",
    "decisionTree.calculate_mse(left_y, right_y)"
   ]
  },
  {
   "cell_type": "markdown",
   "id": "9899728a",
   "metadata": {},
   "source": [
    "## Demonstrate a decision being made to prune a subtree."
   ]
  },
  {
   "cell_type": "code",
   "execution_count": 17,
   "id": "797bbd91",
   "metadata": {},
   "outputs": [],
   "source": [
    "X = np.array([1, 2, 3, 4, 5, 6, 7, 8, 9, 10]).reshape(-1, 1)\n",
    "y = np.array([2, 4, 3, 7, 5, 9, 8, 10, 12, 11])"
   ]
  },
  {
   "cell_type": "code",
   "execution_count": 18,
   "id": "933191f7",
   "metadata": {},
   "outputs": [
    {
     "name": "stdout",
     "output_type": "stream",
     "text": [
      "X_0 <= 3 ? 1.6666666666666665\n",
      " left:3.0\n",
      " right:6.0\n"
     ]
    }
   ],
   "source": [
    "#Initialize and fit the decision tree regressor\n",
    "regr_tree = DecisionTreeRegressor()\n",
    "regr_tree.fit(X, y)\n",
    "sub_tree = regr_tree.tree[\"left\"]\n",
    "print_tree_regression(sub_tree)"
   ]
  },
  {
   "cell_type": "code",
   "execution_count": 19,
   "id": "f235857c",
   "metadata": {
    "scrolled": false
   },
   "outputs": [
    {
     "name": "stdout",
     "output_type": "stream",
     "text": [
      "yes\n"
     ]
    }
   ],
   "source": [
    "X = np.array([[3]])\n",
    "y = np.array([4.5])\n",
    "decisionTree.whether_to_prune(X, y, sub_tree)"
   ]
  },
  {
   "cell_type": "markdown",
   "id": "5859cdd3",
   "metadata": {},
   "source": [
    "## Demonstrate an example traversing a classification tree and a class label being assigned at the leaf."
   ]
  },
  {
   "cell_type": "code",
   "execution_count": 20,
   "id": "b276ee35",
   "metadata": {
    "scrolled": true
   },
   "outputs": [
    {
     "name": "stdout",
     "output_type": "stream",
     "text": [
      "Feature 3 = ?\n",
      "  Feature 11 = ?\n",
      "    Feature 8 = ?\n",
      "      republican\n",
      "    Feature 8 = n\n",
      "      democrat\n",
      "    Feature 8 = y\n",
      "      democrat\n",
      "  Feature 11 = n\n",
      "    democrat\n",
      "  Feature 11 = y\n",
      "    republican\n",
      "Feature 3 = n\n",
      "  Feature 2 = ?\n",
      "    democrat\n",
      "  Feature 2 = n\n",
      "    Feature 11 = ?\n",
      "      republican\n",
      "    Feature 11 = n\n",
      "      Feature 10 = n\n",
      "        Feature 5 = n\n",
      "          Feature 13 = n\n",
      "            democrat\n",
      "          Feature 13 = y\n",
      "            republican\n",
      "        Feature 5 = y\n",
      "          democrat\n",
      "      Feature 10 = y\n",
      "        democrat\n",
      "    Feature 11 = y\n",
      "      democrat\n",
      "  Feature 2 = y\n",
      "    democrat\n",
      "Feature 3 = y\n",
      "  Feature 10 = ?\n",
      "    republican\n",
      "  Feature 10 = n\n",
      "    Feature 14 = ?\n",
      "      republican\n",
      "    Feature 14 = n\n",
      "      Feature 2 = n\n",
      "        republican\n",
      "      Feature 2 = y\n",
      "        Feature 15 = ?\n",
      "          Feature 0 = n\n",
      "            democrat\n",
      "          Feature 0 = y\n",
      "            republican\n",
      "        Feature 15 = y\n",
      "          republican\n",
      "    Feature 14 = y\n",
      "      Feature 9 = n\n",
      "        Feature 6 = n\n",
      "          Feature 11 = n\n",
      "            democrat\n",
      "          Feature 11 = y\n",
      "            republican\n",
      "        Feature 6 = y\n",
      "          republican\n",
      "      Feature 9 = y\n",
      "        republican\n",
      "  Feature 10 = y\n",
      "    Feature 8 = n\n",
      "      Feature 2 = n\n",
      "        Feature 12 = n\n",
      "          Feature 1 = n\n",
      "            republican\n",
      "          Feature 1 = y\n",
      "            democrat\n",
      "        Feature 12 = y\n",
      "          Feature 15 = ?\n",
      "            Feature 0 = n\n",
      "              republican\n",
      "            Feature 0 = y\n",
      "              democrat\n",
      "          Feature 15 = n\n",
      "            Feature 1 = n\n",
      "              Feature 0 = n\n",
      "                democrat\n",
      "              Feature 0 = y\n",
      "                republican\n",
      "            Feature 1 = y\n",
      "              republican\n",
      "          Feature 15 = y\n",
      "            republican\n",
      "      Feature 2 = y\n",
      "        Feature 1 = n\n",
      "          republican\n",
      "        Feature 1 = y\n",
      "          democrat\n",
      "    Feature 8 = y\n",
      "      Feature 5 = n\n",
      "        Feature 2 = n\n",
      "          democrat\n",
      "        Feature 2 = y\n",
      "          republican\n",
      "      Feature 5 = y\n",
      "        democrat\n"
     ]
    }
   ],
   "source": [
    "house_votes_tree = DecisionTreeClassifier()\n",
    "house_votes_tree.fit(house_votes_data, house_votes_target)\n",
    "print_tree_classification(house_votes_tree.tree)"
   ]
  },
  {
   "cell_type": "code",
   "execution_count": 21,
   "id": "61d019fd",
   "metadata": {},
   "outputs": [
    {
     "data": {
      "text/plain": [
       "array(['republican'], dtype='<U10')"
      ]
     },
     "execution_count": 21,
     "metadata": {},
     "output_type": "execute_result"
    }
   ],
   "source": [
    "# Make predictions\n",
    "newdata = np.array([['n', 'y', 'n', 'y', 'y', 'y', 'n', 'n', 'n', 'y', '?', 'y', 'y', 'y', 'n', 'y']])\n",
    "house_votes_tree.predict(newdata)"
   ]
  },
  {
   "cell_type": "markdown",
   "id": "63a8ed9d",
   "metadata": {},
   "source": [
    "## Demonstrate an example traversing a regression tree and a prediction being made at the leaf."
   ]
  },
  {
   "cell_type": "code",
   "execution_count": 22,
   "id": "14df8769",
   "metadata": {},
   "outputs": [
    {
     "name": "stdout",
     "output_type": "stream",
     "text": [
      "X_4 <= 50.4 ? 4059.2878373154863\n",
      " left:0.0\n",
      " right:X_6 <= 9.3 ? 4074.4625039096536\n",
      "  left:0.0\n",
      "  right:X_7 <= 0.7 ? 4089.7508386181107\n",
      "    left:0.0\n",
      "    right:X_9 <= 96 ? 4105.154120796971\n",
      "        left:X_7 <= 22.6 ? 4120.689602388746\n",
      "                left:X_7 <= 20.3 ? 4137.490084901577\n",
      "                                left:X_4 <= 96.1 ? 4154.224079017841\n",
      "                                                                left:X_5 <= 3.2 ? 4173.721856203362\n",
      "                                                                                                                                left:2.31\n",
      "                                                                                                                                right:X_5 <= 4.4 ? 4196.902358283334\n",
      "                                                                                                                                                                                                                                                                left:4.79\n",
      "                                                                                                                                                                                                                                                                right:X_11 <= 1.0 ? 4228.39142549265\n",
      "                                                                                                                                                                                                                                                                                                                                                                                                                                                                                                                                left:13.316653225806451\n",
      "                                                                                                                                                                                                                                                                                                                                                                                                                                                                                                                                right:6.495\n",
      "                                                                right:1.385\n",
      "                                right:1.035\n",
      "                right:0.085\n",
      "        right:0.0\n"
     ]
    }
   ],
   "source": [
    "#Initialize and fit the decision tree regressor\n",
    "forests_tree = DecisionTreeRegressor(max_depth=10)\n",
    "forests_tree.fit(forestfires_data, forestfires_target)\n",
    "print_tree_regression(forests_tree.tree)"
   ]
  },
  {
   "cell_type": "code",
   "execution_count": 23,
   "id": "d8a4a7b7",
   "metadata": {
    "scrolled": false
   },
   "outputs": [
    {
     "data": {
      "text/plain": [
       "array([13.31665323])"
      ]
     },
     "execution_count": 23,
     "metadata": {},
     "output_type": "execute_result"
    }
   ],
   "source": [
    "# Make predictions\n",
    "new_data = [[7, 5, 'mar', 'fri', 86.2, 26.2, 94.3, 5.1, 8.2, 51, 6.7, 0]]\n",
    "predictions = forests_tree.predict(new_data)\n",
    "predictions"
   ]
  },
  {
   "cell_type": "markdown",
   "id": "e6dc337b",
   "metadata": {},
   "source": [
    "# Output for Paper"
   ]
  },
  {
   "cell_type": "code",
   "execution_count": 28,
   "id": "6976201d",
   "metadata": {},
   "outputs": [],
   "source": [
    "K=5\n",
    "hyperparam = [False, True]"
   ]
  },
  {
   "cell_type": "markdown",
   "id": "924cda2a",
   "metadata": {},
   "source": [
    "## Classification Data"
   ]
  },
  {
   "cell_type": "code",
   "execution_count": 31,
   "id": "5ac52ef7",
   "metadata": {},
   "outputs": [],
   "source": [
    "model=DecisionTreeClassifier()"
   ]
  },
  {
   "cell_type": "markdown",
   "id": "59ec810f",
   "metadata": {},
   "source": [
    "breast cancer"
   ]
  },
  {
   "cell_type": "code",
   "execution_count": 32,
   "id": "1362d250",
   "metadata": {},
   "outputs": [
    {
     "name": "stdout",
     "output_type": "stream",
     "text": [
      "X_train size:  558\n",
      "X_valid size:  141\n",
      "y_train size:  558\n",
      "y_valid size:  141\n",
      "Round 0.1 of hyperparameter choosing.\n",
      "train size: 222. test size: 141\n",
      "Performance of corresponding hyperparams: [0.950354609929078, 0.9574468085106383]\n",
      "Round 0.2 of hyperparameter choosing.\n",
      "train size: 222. test size: 141\n",
      "Performance of corresponding hyperparams: [0.9078014184397163, 0.8581560283687943]\n",
      "Round 1.1 of hyperparameter choosing.\n",
      "train size: 222. test size: 141\n",
      "Performance of corresponding hyperparams: [0.9290780141843972, 0.900709219858156]\n",
      "Round 1.2 of hyperparameter choosing.\n",
      "train size: 222. test size: 141\n",
      "Performance of corresponding hyperparams: [0.8865248226950354, 0.9219858156028369]\n",
      "Round 2.1 of hyperparameter choosing.\n",
      "train size: 222. test size: 141\n",
      "Performance of corresponding hyperparams: [0.9290780141843972, 0.950354609929078]\n",
      "Round 2.2 of hyperparameter choosing.\n",
      "train size: 222. test size: 141\n",
      "Performance of corresponding hyperparams: [0.9290780141843972, 0.9574468085106383]\n",
      "Round 3.1 of hyperparameter choosing.\n",
      "train size: 222. test size: 141\n",
      "Performance of corresponding hyperparams: [0.9645390070921985, 0.9574468085106383]\n",
      "Round 3.2 of hyperparameter choosing.\n",
      "train size: 222. test size: 141\n",
      "Performance of corresponding hyperparams: [0.9290780141843972, 0.9078014184397163]\n",
      "Round 4.1 of hyperparameter choosing.\n",
      "train size: 222. test size: 141\n",
      "Performance of corresponding hyperparams: [0.9148936170212766, 0.8865248226950354]\n",
      "Round 4.2 of hyperparameter choosing.\n",
      "train size: 222. test size: 141\n",
      "Performance of corresponding hyperparams: [0.9645390070921985, 0.9574468085106383]\n",
      "The average performance is: [0.93049645 0.92553191]\n",
      "The best hyperparams setting is: [False]\n",
      "Round 0.1 performance testing of best hyperparameter setting.\n",
      "train size: 279. test size: 279\n",
      "Performance: 0.9283154121863799\n",
      "Round 0.2 performance testing of best hyperparameter setting.\n",
      "train size: 279. test size: 279\n",
      "Performance: 0.9175627240143369\n",
      "Round 1.1 performance testing of best hyperparameter setting.\n",
      "train size: 279. test size: 279\n",
      "Performance: 0.9354838709677419\n",
      "Round 1.2 performance testing of best hyperparameter setting.\n",
      "train size: 279. test size: 279\n",
      "Performance: 0.8924731182795699\n",
      "Round 2.1 performance testing of best hyperparameter setting.\n",
      "train size: 279. test size: 279\n",
      "Performance: 0.9247311827956989\n",
      "Round 2.2 performance testing of best hyperparameter setting.\n",
      "train size: 279. test size: 279\n",
      "Performance: 0.921146953405018\n",
      "Round 3.1 performance testing of best hyperparameter setting.\n",
      "train size: 279. test size: 279\n",
      "Performance: 0.899641577060932\n",
      "Round 3.2 performance testing of best hyperparameter setting.\n",
      "train size: 279. test size: 279\n",
      "Performance: 0.942652329749104\n",
      "Round 4.1 performance testing of best hyperparameter setting.\n",
      "train size: 279. test size: 279\n",
      "Performance: 0.910394265232975\n",
      "Round 4.2 performance testing of best hyperparameter setting.\n",
      "train size: 279. test size: 279\n",
      "Performance: 0.946236559139785\n",
      "The average performance is: 0.9218637992831542\n"
     ]
    },
    {
     "data": {
      "text/plain": [
       "(False, 0.9218637992831542)"
      ]
     },
     "execution_count": 32,
     "metadata": {},
     "output_type": "execute_result"
    }
   ],
   "source": [
    "breast_cancer_label = breast_cancer['class'].to_numpy()\n",
    "breast_cancer_data = breast_cancer.drop(columns=['class']).to_numpy()\n",
    "tk.k_2_cv(breast_cancer_data, breast_cancer_label, K, hyperparam, model, classification=True)"
   ]
  },
  {
   "cell_type": "markdown",
   "id": "35d5eb1e",
   "metadata": {},
   "source": [
    "car"
   ]
  },
  {
   "cell_type": "code",
   "execution_count": 33,
   "id": "8f49b849",
   "metadata": {},
   "outputs": [
    {
     "name": "stdout",
     "output_type": "stream",
     "text": [
      "X_train size:  1382\n",
      "X_valid size:  346\n",
      "y_train size:  1382\n",
      "y_valid size:  346\n",
      "Round 0.1 of hyperparameter choosing.\n",
      "train size: 550. test size: 346\n",
      "Performance of corresponding hyperparams: [0.8757225433526011, 0.846820809248555]\n",
      "Round 0.2 of hyperparameter choosing.\n",
      "train size: 552. test size: 346\n",
      "Performance of corresponding hyperparams: [0.9104046242774566, 0.8179190751445087]\n",
      "Round 1.1 of hyperparameter choosing.\n",
      "train size: 550. test size: 346\n",
      "Performance of corresponding hyperparams: [0.8728323699421965, 0.8179190751445087]\n",
      "Round 1.2 of hyperparameter choosing.\n",
      "train size: 552. test size: 346\n",
      "Performance of corresponding hyperparams: [0.8786127167630058, 0.8641618497109826]\n",
      "Round 2.1 of hyperparameter choosing.\n",
      "train size: 550. test size: 346\n",
      "Performance of corresponding hyperparams: [0.8757225433526011, 0.8294797687861272]\n",
      "Round 2.2 of hyperparameter choosing.\n",
      "train size: 552. test size: 346\n",
      "Performance of corresponding hyperparams: [0.8786127167630058, 0.8121387283236994]\n",
      "Round 3.1 of hyperparameter choosing.\n",
      "train size: 550. test size: 346\n",
      "Performance of corresponding hyperparams: [0.9075144508670521, 0.838150289017341]\n",
      "Round 3.2 of hyperparameter choosing.\n",
      "train size: 552. test size: 346\n",
      "Performance of corresponding hyperparams: [0.8872832369942196, 0.8265895953757225]\n",
      "Round 4.1 of hyperparameter choosing.\n",
      "train size: 550. test size: 346\n",
      "Performance of corresponding hyperparams: [0.8497109826589595, 0.8265895953757225]\n",
      "Round 4.2 of hyperparameter choosing.\n",
      "train size: 552. test size: 346\n",
      "Performance of corresponding hyperparams: [0.8728323699421965, 0.8121387283236994]\n",
      "The average performance is: [0.88092486 0.82919075]\n",
      "The best hyperparams setting is: [False]\n",
      "Round 0.1 performance testing of best hyperparameter setting.\n",
      "train size: 690. test size: 692\n",
      "Performance: 0.8208092485549133\n",
      "Round 0.2 performance testing of best hyperparameter setting.\n",
      "train size: 692. test size: 690\n",
      "Performance: 0.8652173913043478\n",
      "Round 1.1 performance testing of best hyperparameter setting.\n",
      "train size: 690. test size: 692\n",
      "Performance: 0.869942196531792\n",
      "Round 1.2 performance testing of best hyperparameter setting.\n",
      "train size: 692. test size: 690\n",
      "Performance: 0.8217391304347826\n",
      "Round 2.1 performance testing of best hyperparameter setting.\n",
      "train size: 690. test size: 692\n",
      "Performance: 0.8410404624277457\n",
      "Round 2.2 performance testing of best hyperparameter setting.\n",
      "train size: 692. test size: 690\n",
      "Performance: 0.8710144927536232\n",
      "Round 3.1 performance testing of best hyperparameter setting.\n",
      "train size: 690. test size: 692\n",
      "Performance: 0.8540462427745664\n",
      "Round 3.2 performance testing of best hyperparameter setting.\n",
      "train size: 692. test size: 690\n",
      "Performance: 0.8231884057971014\n",
      "Round 4.1 performance testing of best hyperparameter setting.\n",
      "train size: 690. test size: 692\n",
      "Performance: 0.8424855491329479\n",
      "Round 4.2 performance testing of best hyperparameter setting.\n",
      "train size: 692. test size: 690\n",
      "Performance: 0.8579710144927536\n",
      "The average performance is: 0.8467454134204575\n"
     ]
    },
    {
     "data": {
      "text/plain": [
       "(False, 0.8467454134204575)"
      ]
     },
     "execution_count": 33,
     "metadata": {},
     "output_type": "execute_result"
    }
   ],
   "source": [
    "car_target = car['class'].to_numpy()\n",
    "car_data = car.drop(columns=['class']).to_numpy()\n",
    "tk.k_2_cv(car_data, car_target, K, hyperparam, model, classification=True)"
   ]
  },
  {
   "cell_type": "markdown",
   "id": "4b222db8",
   "metadata": {},
   "source": [
    "house votes"
   ]
  },
  {
   "cell_type": "code",
   "execution_count": 35,
   "id": "d2bf2837",
   "metadata": {},
   "outputs": [
    {
     "name": "stdout",
     "output_type": "stream",
     "text": [
      "X_train size:  347\n",
      "X_valid size:  88\n",
      "y_train size:  347\n",
      "y_valid size:  88\n",
      "Round 0.1 of hyperparameter choosing.\n",
      "train size: 137. test size: 88\n",
      "Performance of corresponding hyperparams: [0.9318181818181818, 0.9431818181818182]\n",
      "Round 0.2 of hyperparameter choosing.\n",
      "train size: 138. test size: 88\n",
      "Performance of corresponding hyperparams: [0.9431818181818182, 0.9431818181818182]\n",
      "Round 1.1 of hyperparameter choosing.\n",
      "train size: 137. test size: 88\n",
      "Performance of corresponding hyperparams: [0.9090909090909091, 0.8863636363636364]\n",
      "Round 1.2 of hyperparameter choosing.\n",
      "train size: 138. test size: 88\n",
      "Performance of corresponding hyperparams: [0.9204545454545454, 0.9431818181818182]\n",
      "Round 2.1 of hyperparameter choosing.\n",
      "train size: 137. test size: 88\n",
      "Performance of corresponding hyperparams: [0.9090909090909091, 0.9431818181818182]\n",
      "Round 2.2 of hyperparameter choosing.\n",
      "train size: 138. test size: 88\n",
      "Performance of corresponding hyperparams: [0.9204545454545454, 0.9431818181818182]\n",
      "Round 3.1 of hyperparameter choosing.\n",
      "train size: 137. test size: 88\n",
      "Performance of corresponding hyperparams: [0.9318181818181818, 0.8977272727272727]\n",
      "Round 3.2 of hyperparameter choosing.\n",
      "train size: 138. test size: 88\n",
      "Performance of corresponding hyperparams: [0.9204545454545454, 0.9318181818181818]\n",
      "Round 4.1 of hyperparameter choosing.\n",
      "train size: 137. test size: 88\n",
      "Performance of corresponding hyperparams: [0.8977272727272727, 0.9318181818181818]\n",
      "Round 4.2 of hyperparameter choosing.\n",
      "train size: 138. test size: 88\n",
      "Performance of corresponding hyperparams: [0.9318181818181818, 0.9431818181818182]\n",
      "The average performance is: [0.92159091 0.93068182]\n",
      "The best hyperparams setting is: [True]\n",
      "Round 0.1 performance testing of best hyperparameter setting.\n",
      "train size: 173. test size: 174\n",
      "Performance: 0.9482758620689655\n",
      "Round 0.2 performance testing of best hyperparameter setting.\n",
      "train size: 174. test size: 173\n",
      "Performance: 0.9710982658959537\n",
      "Round 1.1 performance testing of best hyperparameter setting.\n",
      "train size: 173. test size: 174\n",
      "Performance: 0.9367816091954023\n",
      "Round 1.2 performance testing of best hyperparameter setting.\n",
      "train size: 174. test size: 173\n",
      "Performance: 0.9595375722543352\n",
      "Round 2.1 performance testing of best hyperparameter setting.\n",
      "train size: 173. test size: 174\n",
      "Performance: 0.9655172413793104\n",
      "Round 2.2 performance testing of best hyperparameter setting.\n",
      "train size: 174. test size: 173\n",
      "Performance: 0.930635838150289\n",
      "Round 3.1 performance testing of best hyperparameter setting.\n",
      "train size: 173. test size: 174\n",
      "Performance: 0.9655172413793104\n",
      "Round 3.2 performance testing of best hyperparameter setting.\n",
      "train size: 174. test size: 173\n",
      "Performance: 0.953757225433526\n",
      "Round 4.1 performance testing of best hyperparameter setting.\n",
      "train size: 173. test size: 174\n",
      "Performance: 0.9597701149425287\n",
      "Round 4.2 performance testing of best hyperparameter setting.\n",
      "train size: 174. test size: 173\n",
      "Performance: 0.9595375722543352\n",
      "The average performance is: 0.9550428542953957\n"
     ]
    },
    {
     "data": {
      "text/plain": [
       "(True, 0.9550428542953957)"
      ]
     },
     "execution_count": 35,
     "metadata": {},
     "output_type": "execute_result"
    }
   ],
   "source": [
    "house_votes_target = house_votes['class'].to_numpy()\n",
    "house_votes_data = house_votes.drop(columns=['class']).to_numpy()\n",
    "tk.k_2_cv(house_votes_data, house_votes_target, K, hyperparam, model, classification=True)"
   ]
  },
  {
   "cell_type": "markdown",
   "id": "86877e94",
   "metadata": {},
   "source": [
    "## Regression Data"
   ]
  },
  {
   "cell_type": "code",
   "execution_count": 41,
   "id": "3c2d333f",
   "metadata": {},
   "outputs": [],
   "source": [
    "model=DecisionTreeRegressor()"
   ]
  },
  {
   "cell_type": "markdown",
   "id": "94e3dd16",
   "metadata": {},
   "source": [
    "Abalone"
   ]
  },
  {
   "cell_type": "code",
   "execution_count": 38,
   "id": "51ce27ed",
   "metadata": {
    "scrolled": false
   },
   "outputs": [
    {
     "name": "stdout",
     "output_type": "stream",
     "text": [
      "X_train size:  3341\n",
      "X_valid size:  836\n",
      "y_train size:  3341\n",
      "y_valid size:  836\n",
      "Round 0.1 of hyperparameter choosing.\n",
      "train size: 1336. test size: 836\n",
      "Performance of corresponding hyperparams: [2.123006379585327, 2.1009654818865346]\n",
      "Round 0.2 of hyperparameter choosing.\n",
      "train size: 1336. test size: 836\n",
      "Performance of corresponding hyperparams: [2.210526315789474, 2.1068381180223286]\n",
      "Round 1.1 of hyperparameter choosing.\n",
      "train size: 1336. test size: 836\n",
      "Performance of corresponding hyperparams: [2.255781499202552, 2.1230495315423545]\n",
      "Round 1.2 of hyperparameter choosing.\n",
      "train size: 1336. test size: 836\n",
      "Performance of corresponding hyperparams: [2.2450159489633172, 2.224732285258601]\n",
      "Round 2.1 of hyperparameter choosing.\n",
      "train size: 1336. test size: 836\n",
      "Performance of corresponding hyperparams: [2.209529505582137, 2.0914484638168847]\n",
      "Round 2.2 of hyperparameter choosing.\n",
      "train size: 1336. test size: 836\n",
      "Performance of corresponding hyperparams: [2.1965709728867626, 2.256222106067307]\n",
      "Round 3.1 of hyperparameter choosing.\n",
      "train size: 1336. test size: 836\n",
      "Performance of corresponding hyperparams: [2.0655901116427433, 2.1880582137161086]\n",
      "Round 3.2 of hyperparameter choosing.\n",
      "train size: 1336. test size: 836\n",
      "Performance of corresponding hyperparams: [2.1447368421052633, 2.0172960811118705]\n",
      "Round 4.1 of hyperparameter choosing.\n",
      "train size: 1336. test size: 836\n",
      "Performance of corresponding hyperparams: [2.0743620414673045, 2.020812793001788]\n",
      "Round 4.2 of hyperparameter choosing.\n",
      "train size: 1336. test size: 836\n",
      "Performance of corresponding hyperparams: [2.181419457735247, 2.085719118733473]\n",
      "The average performance is: [2.17065391 2.12151422]\n",
      "The best hyperparams setting is: [True]\n",
      "Round 0.1 performance testing of best hyperparameter setting.\n",
      "train size: 1670. test size: 1671\n",
      "Performance: 2.0059366263893046\n",
      "Round 0.2 performance testing of best hyperparameter setting.\n",
      "train size: 1671. test size: 1670\n",
      "Performance: 1.9831572350886582\n",
      "Round 1.1 performance testing of best hyperparameter setting.\n",
      "train size: 1670. test size: 1671\n",
      "Performance: 1.9329503934029226\n",
      "Round 1.2 performance testing of best hyperparameter setting.\n",
      "train size: 1671. test size: 1670\n",
      "Performance: 1.9747555147708498\n",
      "Round 2.1 performance testing of best hyperparameter setting.\n",
      "train size: 1670. test size: 1671\n",
      "Performance: 2.0060781893816007\n",
      "Round 2.2 performance testing of best hyperparameter setting.\n",
      "train size: 1671. test size: 1670\n",
      "Performance: 1.8917683496226814\n",
      "Round 3.1 performance testing of best hyperparameter setting.\n",
      "train size: 1670. test size: 1671\n",
      "Performance: 1.9670771505609614\n",
      "Round 3.2 performance testing of best hyperparameter setting.\n",
      "train size: 1671. test size: 1670\n",
      "Performance: 1.8886896083935965\n",
      "Round 4.1 performance testing of best hyperparameter setting.\n",
      "train size: 1670. test size: 1671\n",
      "Performance: 1.9303866093945439\n",
      "Round 4.2 performance testing of best hyperparameter setting.\n",
      "train size: 1671. test size: 1670\n",
      "Performance: 1.9660181504743013\n",
      "The average performance is: 1.954681782747942\n"
     ]
    },
    {
     "data": {
      "text/plain": [
       "(True, 1.954681782747942)"
      ]
     },
     "execution_count": 38,
     "metadata": {},
     "output_type": "execute_result"
    }
   ],
   "source": [
    "abalone_target = abalone['rings'].to_numpy()\n",
    "abalone_data = abalone.drop(columns=['rings']).to_numpy()\n",
    "tk.k_2_cv(abalone_data, abalone_target, K, hyperparam, model, classification=False)"
   ]
  },
  {
   "cell_type": "code",
   "execution_count": 42,
   "id": "0aa35795",
   "metadata": {},
   "outputs": [
    {
     "name": "stdout",
     "output_type": "stream",
     "text": [
      "X_train size:  413\n",
      "X_valid size:  104\n",
      "y_train size:  413\n",
      "y_valid size:  104\n",
      "Round 0.1 of hyperparameter choosing.\n",
      "train size: 164. test size: 104\n",
      "Performance of corresponding hyperparams: [20.423477564102562, 8.118365384615384]\n",
      "Round 0.2 of hyperparameter choosing.\n",
      "train size: 165. test size: 104\n",
      "Performance of corresponding hyperparams: [13.287483974358974, 12.449921558704451]\n",
      "Round 1.1 of hyperparameter choosing.\n",
      "train size: 164. test size: 104\n",
      "Performance of corresponding hyperparams: [12.624455128205131, 9.070363247863249]\n",
      "Round 1.2 of hyperparameter choosing.\n",
      "train size: 165. test size: 104\n",
      "Performance of corresponding hyperparams: [21.893541666666668, 25.410977047146396]\n",
      "Round 2.1 of hyperparameter choosing.\n",
      "train size: 164. test size: 104\n",
      "Performance of corresponding hyperparams: [11.882708333333333, 12.664087771203155]\n",
      "Round 2.2 of hyperparameter choosing.\n",
      "train size: 165. test size: 104\n",
      "Performance of corresponding hyperparams: [11.688541666666664, 11.017960090984284]\n",
      "Round 3.1 of hyperparameter choosing.\n",
      "train size: 164. test size: 104\n",
      "Performance of corresponding hyperparams: [15.494278846153843, 14.570592948717948]\n",
      "Round 3.2 of hyperparameter choosing.\n",
      "train size: 165. test size: 104\n",
      "Performance of corresponding hyperparams: [13.38690705128205, 12.144045857988166]\n",
      "Round 4.1 of hyperparameter choosing.\n",
      "train size: 164. test size: 104\n",
      "Performance of corresponding hyperparams: [13.545544871794872, 10.436424116424117]\n",
      "Round 4.2 of hyperparameter choosing.\n",
      "train size: 165. test size: 104\n",
      "Performance of corresponding hyperparams: [11.879935897435898, 13.682279549718574]\n",
      "The average performance is: [14.6106875  12.95650176]\n",
      "The best hyperparams setting is: [True]\n",
      "Round 0.1 performance testing of best hyperparameter setting.\n",
      "train size: 206. test size: 207\n",
      "Performance: 21.715295390499197\n",
      "Round 0.2 performance testing of best hyperparameter setting.\n",
      "train size: 207. test size: 206\n",
      "Performance: 20.392358103061984\n",
      "Round 1.1 performance testing of best hyperparameter setting.\n",
      "train size: 206. test size: 207\n",
      "Performance: 15.61703347938434\n",
      "Round 1.2 performance testing of best hyperparameter setting.\n",
      "train size: 207. test size: 206\n",
      "Performance: 23.424580385058416\n",
      "Round 2.1 performance testing of best hyperparameter setting.\n",
      "train size: 206. test size: 207\n",
      "Performance: 25.04742921788051\n",
      "Round 2.2 performance testing of best hyperparameter setting.\n",
      "train size: 207. test size: 206\n",
      "Performance: 21.81358397025408\n",
      "Round 3.1 performance testing of best hyperparameter setting.\n",
      "train size: 206. test size: 207\n",
      "Performance: 17.98149758454106\n",
      "Round 3.2 performance testing of best hyperparameter setting.\n",
      "train size: 207. test size: 206\n",
      "Performance: 23.808707413945278\n",
      "Round 4.1 performance testing of best hyperparameter setting.\n",
      "train size: 206. test size: 207\n",
      "Performance: 19.89739398819109\n",
      "Round 4.2 performance testing of best hyperparameter setting.\n",
      "train size: 207. test size: 206\n",
      "Performance: 23.4730999502116\n",
      "The average performance is: 21.317097948302752\n"
     ]
    },
    {
     "data": {
      "text/plain": [
       "(True, 21.317097948302752)"
      ]
     },
     "execution_count": 42,
     "metadata": {},
     "output_type": "execute_result"
    }
   ],
   "source": [
    "forestfires_target = forestfires['area'].to_numpy()\n",
    "forestfires_data = forestfires.drop(columns=['area']).to_numpy()\n",
    "tk.k_2_cv(forestfires_data, forestfires_target, K, hyperparam, model, classification=False)"
   ]
  },
  {
   "cell_type": "code",
   "execution_count": 43,
   "id": "cce50135",
   "metadata": {},
   "outputs": [
    {
     "name": "stdout",
     "output_type": "stream",
     "text": [
      "X_train size:  167\n",
      "X_valid size:  42\n",
      "y_train size:  167\n",
      "y_valid size:  42\n",
      "Round 0.1 of hyperparameter choosing.\n",
      "train size: 66. test size: 42\n",
      "Performance of corresponding hyperparams: [37.019841269841265, 40.92460317460318]\n",
      "Round 0.2 of hyperparameter choosing.\n",
      "train size: 67. test size: 42\n",
      "Performance of corresponding hyperparams: [42.876984126984134, 45.769841269841265]\n",
      "Round 1.1 of hyperparameter choosing.\n",
      "train size: 66. test size: 42\n",
      "Performance of corresponding hyperparams: [48.79761904761905, 145.71428571428572]\n",
      "Round 1.2 of hyperparameter choosing.\n",
      "train size: 67. test size: 42\n",
      "Performance of corresponding hyperparams: [37.817460317460316, 44.522222222222226]\n",
      "Round 2.1 of hyperparameter choosing.\n",
      "train size: 66. test size: 42\n",
      "Performance of corresponding hyperparams: [38.21428571428572, 45.904761904761905]\n",
      "Round 2.2 of hyperparameter choosing.\n",
      "train size: 67. test size: 42\n",
      "Performance of corresponding hyperparams: [49.25, 76.1547619047619]\n",
      "Round 3.1 of hyperparameter choosing.\n",
      "train size: 66. test size: 42\n",
      "Performance of corresponding hyperparams: [47.31349206349206, 92.88095238095238]\n",
      "Round 3.2 of hyperparameter choosing.\n",
      "train size: 67. test size: 42\n",
      "Performance of corresponding hyperparams: [42.63492063492064, 37.25992063492064]\n",
      "Round 4.1 of hyperparameter choosing.\n",
      "train size: 66. test size: 42\n",
      "Performance of corresponding hyperparams: [40.19444444444444, 41.13194444444444]\n",
      "Round 4.2 of hyperparameter choosing.\n",
      "train size: 67. test size: 42\n",
      "Performance of corresponding hyperparams: [39.833333333333336, 52.08809523809524]\n",
      "The average performance is: [42.3952381  62.23513889]\n",
      "The best hyperparams setting is: [False]\n",
      "Round 0.1 performance testing of best hyperparameter setting.\n",
      "train size: 83. test size: 84\n",
      "Performance: 38.339285714285715\n",
      "Round 0.2 performance testing of best hyperparameter setting.\n",
      "train size: 84. test size: 83\n",
      "Performance: 45.75100401606426\n",
      "Round 1.1 performance testing of best hyperparameter setting.\n",
      "train size: 83. test size: 84\n",
      "Performance: 51.83531746031746\n",
      "Round 1.2 performance testing of best hyperparameter setting.\n",
      "train size: 84. test size: 83\n",
      "Performance: 71.78313253012048\n",
      "Round 2.1 performance testing of best hyperparameter setting.\n",
      "train size: 83. test size: 84\n",
      "Performance: 49.40079365079365\n",
      "Round 2.2 performance testing of best hyperparameter setting.\n",
      "train size: 84. test size: 83\n",
      "Performance: 51.16867469879518\n",
      "Round 3.1 performance testing of best hyperparameter setting.\n",
      "train size: 83. test size: 84\n",
      "Performance: 48.982142857142854\n",
      "Round 3.2 performance testing of best hyperparameter setting.\n",
      "train size: 84. test size: 83\n",
      "Performance: 40.897590361445786\n",
      "Round 4.1 performance testing of best hyperparameter setting.\n",
      "train size: 83. test size: 84\n",
      "Performance: 34.70238095238095\n",
      "Round 4.2 performance testing of best hyperparameter setting.\n",
      "train size: 84. test size: 83\n",
      "Performance: 64.06224899598392\n",
      "The average performance is: 49.69225712373303\n"
     ]
    },
    {
     "data": {
      "text/plain": [
       "(False, 49.69225712373303)"
      ]
     },
     "execution_count": 43,
     "metadata": {},
     "output_type": "execute_result"
    }
   ],
   "source": [
    "machine_target = machine['PRP'].to_numpy()\n",
    "machine_data = machine.drop(columns=['PRP']).to_numpy()\n",
    "tk.k_2_cv(machine_data, machine_target, K, hyperparam, model, classification=False)"
   ]
  }
 ],
 "metadata": {
  "kernelspec": {
   "display_name": "Python 3 (ipykernel)",
   "language": "python",
   "name": "python3"
  },
  "language_info": {
   "codemirror_mode": {
    "name": "ipython",
    "version": 3
   },
   "file_extension": ".py",
   "mimetype": "text/x-python",
   "name": "python",
   "nbconvert_exporter": "python",
   "pygments_lexer": "ipython3",
   "version": "3.11.4"
  }
 },
 "nbformat": 4,
 "nbformat_minor": 5
}
